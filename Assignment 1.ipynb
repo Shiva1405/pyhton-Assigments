{
 "cells": [
  {
   "cell_type": "markdown",
   "metadata": {},
   "source": [
    "# Assignment 1- \n",
    "### Question-1:-Help to Mr X to bake the code. Mr X wants to find the occurrences of vowels in a sentence and how many times each vowel repeated in this sentence. Mr X will have power to define this sentence. \n",
    "### Input:- \n",
    "### Input a sentence from user. \n",
    "### Output:- \n",
    "### Vowels in sentence--- \n",
    "### Each vowel repeated as:- \n"
   ]
  },
  {
   "cell_type": "code",
   "execution_count": 2,
   "metadata": {},
   "outputs": [
    {
     "name": "stdout",
     "output_type": "stream",
     "text": [
      "Enter the sentence This is a python program.\n",
      "Vowels in sentence--- ['a', 'i', 'o']\n",
      "Each vowel repeated as:- [2, 2, 2]\n"
     ]
    }
   ],
   "source": [
    "l=['a','e','i','o','u']\n",
    "l1=[0,0,0,0,0]\n",
    "l2=[]\n",
    "r=str(input(\"enter the scentence\"))\n",
    "for i in r:\n",
    "  if i in \"aeiou\":\n",
    "    l2.append(i)\n",
    "    l1[l.index(i)]+=1 \n",
    "print(\"vowel in a scentence\"+str(l2))\n",
    "print(\"each vowel repeated as\"+str(l1))"
   ]
  },
  {
   "cell_type": "code",
   "execution_count": null,
   "metadata": {},
   "outputs": [],
   "source": []
  }
 ],
 "metadata": {
  "kernelspec": {
   "display_name": "Python 3",
   "language": "python",
   "name": "python3"
  },
  "language_info": {
   "codemirror_mode": {
    "name": "ipython",
    "version": 3
   },
   "file_extension": ".py",
   "mimetype": "text/x-python",
   "name": "python",
   "nbconvert_exporter": "python",
   "pygments_lexer": "ipython3",
   "version": "3.8.5"
  }
 },
 "nbformat": 4,
 "nbformat_minor": 4
}