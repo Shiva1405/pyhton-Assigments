{
 "metadata": {
  "language_info": {
   "codemirror_mode": {
    "name": "ipython",
    "version": 3
   },
   "file_extension": ".py",
   "mimetype": "text/x-python",
   "name": "python",
   "nbconvert_exporter": "python",
   "pygments_lexer": "ipython3",
   "version": "3.9.1-final"
  },
  "orig_nbformat": 2,
  "kernelspec": {
   "name": "python3",
   "display_name": "Python 3.9.1 64-bit",
   "metadata": {
    "interpreter": {
     "hash": "34b52c002f848b02fb30b48134a79d71c5e137684d9f0a7e9b68f69926568542"
    }
   }
  }
 },
 "nbformat": 4,
 "nbformat_minor": 2,
 "cells": [
  {
   "cell_type": "code",
   "execution_count": 1,
   "metadata": {},
   "outputs": [
    {
     "output_type": "error",
     "ename": "ValueError",
     "evalue": "invalid literal for int() with base 10: ''",
     "traceback": [
      "\u001b[1;31m---------------------------------------------------------------------------\u001b[0m",
      "\u001b[1;31mValueError\u001b[0m                                Traceback (most recent call last)",
      "\u001b[1;32m<ipython-input-1-88094bc56ced>\u001b[0m in \u001b[0;36m<module>\u001b[1;34m\u001b[0m\n\u001b[1;32m----> 1\u001b[1;33m \u001b[0mk\u001b[0m\u001b[1;33m=\u001b[0m\u001b[0mint\u001b[0m\u001b[1;33m(\u001b[0m\u001b[0minput\u001b[0m\u001b[1;33m(\u001b[0m\u001b[1;34m\"Message Sender : \\n Hello MIT CELL: \\n Please enter k value to shift transform message:\"\u001b[0m\u001b[1;33m)\u001b[0m\u001b[1;33m)\u001b[0m\u001b[1;33m\u001b[0m\u001b[1;33m\u001b[0m\u001b[0m\n\u001b[0m\u001b[0;32m      2\u001b[0m \u001b[0moutput\u001b[0m\u001b[1;33m=\u001b[0m\u001b[1;34m\"\"\u001b[0m\u001b[1;33m\u001b[0m\u001b[1;33m\u001b[0m\u001b[0m\n\u001b[0;32m      3\u001b[0m \u001b[0ms\u001b[0m\u001b[1;33m=\u001b[0m\u001b[0minput\u001b[0m\u001b[1;33m(\u001b[0m\u001b[1;34m'Now please type your message:'\u001b[0m\u001b[1;33m)\u001b[0m\u001b[1;33m\u001b[0m\u001b[1;33m\u001b[0m\u001b[0m\n\u001b[0;32m      4\u001b[0m \u001b[1;32mfor\u001b[0m \u001b[0mx\u001b[0m \u001b[1;32min\u001b[0m \u001b[0ms\u001b[0m\u001b[1;33m:\u001b[0m\u001b[1;33m\u001b[0m\u001b[1;33m\u001b[0m\u001b[0m\n\u001b[0;32m      5\u001b[0m   \u001b[1;32mif\u001b[0m \u001b[0mx\u001b[0m \u001b[1;32min\u001b[0m \u001b[1;34m\"!@#$%^&*()-+?_=,<>/\"\u001b[0m\u001b[1;33m:\u001b[0m\u001b[1;33m\u001b[0m\u001b[1;33m\u001b[0m\u001b[0m\n",
      "\u001b[1;31mValueError\u001b[0m: invalid literal for int() with base 10: ''"
     ]
    }
   ],
   "source": [
    "k=int(input(\"Message Sender : \\n Hello MIT CELL: \\n Please enter k value to shift transform message:\"))\n",
    "output=\"\"\n",
    "s=input('Now please type your message:')\n",
    "for x in s:\n",
    "  if x in \"!@#$%^&*()-+?_=,<>/\":\n",
    "    output+=x\n",
    "  elif x ==\" \":\n",
    "    output+=\"@\"\n",
    "  elif x ==\".\":\n",
    "    output+=\"#\"\n",
    "  else:\n",
    "    y=ord(x)+k\n",
    "    m=chr(y)\n",
    "    output+=m\n",
    "print(\"You send-\"+output)\n",
    "print(\"Message Receiver :\\n Hello Instructor: \\n You got a message:\"+output)\n",
    "k=int(input(\"to read this message enter the value of k provided by cell\"))\n",
    "output1=\"\"\n",
    "for x in output:\n",
    "  if x in \"!@#$%^&*()-+?_=,<>/\":\n",
    "    output1+=x\n",
    "  elif x ==\"@\":\n",
    "    output1+=\" \"\n",
    "  elif x ==\"#\":\n",
    "    output1+=\".\"\n",
    "  else:\n",
    "    y=ord(x)-k\n",
    "    m=chr(y)\n",
    "    output1+=m\n",
    "print(\"Original Message:\"+output1)\n"
   ]
  },
  {
   "cell_type": "code",
   "execution_count": null,
   "metadata": {},
   "outputs": [],
   "source": []
  }
 ]
}